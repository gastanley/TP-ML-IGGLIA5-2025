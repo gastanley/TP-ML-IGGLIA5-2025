{
  "cells": [
    {
      "cell_type": "markdown",
      "metadata": {
        "id": "TJeUwuFQ9gBQ"
      },
      "source": [
        "1- Chargement de dataset"
      ]
    },
    {
      "cell_type": "code",
      "execution_count": 20,
      "metadata": {
        "colab": {
          "base_uri": "https://localhost:8080/"
        },
        "id": "ob_uYxeoAhsV",
        "outputId": "d1a2fb41-598a-4a9a-a9ac-8bd8752eb842"
      },
      "outputs": [
        {
          "name": "stdout",
          "output_type": "stream",
          "text": [
            "Drive already mounted at /content/drive; to attempt to forcibly remount, call drive.mount(\"/content/drive\", force_remount=True).\n"
          ]
        }
      ],
      "source": [
        "from google.colab import drive\n",
        "drive.mount('/content/drive')"
      ]
    },
    {
      "cell_type": "code",
      "execution_count": 21,
      "metadata": {
        "colab": {
          "base_uri": "https://localhost:8080/",
          "height": 206
        },
        "id": "0vDxbPTuAqe0",
        "outputId": "35e31a40-b664-457e-f1d0-be696b87e443"
      },
      "outputs": [
        {
          "data": {
            "application/vnd.google.colaboratory.intrinsic+json": {
              "summary": "{\n  \"name\": \"dataset\",\n  \"rows\": 768,\n  \"fields\": [\n    {\n      \"column\": \"Pregnancies\",\n      \"properties\": {\n        \"dtype\": \"number\",\n        \"std\": 3,\n        \"min\": 0,\n        \"max\": 17,\n        \"num_unique_values\": 17,\n        \"samples\": [\n          6,\n          1,\n          3\n        ],\n        \"semantic_type\": \"\",\n        \"description\": \"\"\n      }\n    },\n    {\n      \"column\": \"Glucose\",\n      \"properties\": {\n        \"dtype\": \"number\",\n        \"std\": 31,\n        \"min\": 0,\n        \"max\": 199,\n        \"num_unique_values\": 136,\n        \"samples\": [\n          151,\n          101,\n          112\n        ],\n        \"semantic_type\": \"\",\n        \"description\": \"\"\n      }\n    },\n    {\n      \"column\": \"BloodPressure\",\n      \"properties\": {\n        \"dtype\": \"number\",\n        \"std\": 19,\n        \"min\": 0,\n        \"max\": 122,\n        \"num_unique_values\": 47,\n        \"samples\": [\n          86,\n          46,\n          85\n        ],\n        \"semantic_type\": \"\",\n        \"description\": \"\"\n      }\n    },\n    {\n      \"column\": \"SkinThickness\",\n      \"properties\": {\n        \"dtype\": \"number\",\n        \"std\": 15,\n        \"min\": 0,\n        \"max\": 99,\n        \"num_unique_values\": 51,\n        \"samples\": [\n          7,\n          12,\n          48\n        ],\n        \"semantic_type\": \"\",\n        \"description\": \"\"\n      }\n    },\n    {\n      \"column\": \"Insulin\",\n      \"properties\": {\n        \"dtype\": \"number\",\n        \"std\": 115,\n        \"min\": 0,\n        \"max\": 846,\n        \"num_unique_values\": 186,\n        \"samples\": [\n          52,\n          41,\n          183\n        ],\n        \"semantic_type\": \"\",\n        \"description\": \"\"\n      }\n    },\n    {\n      \"column\": \"BMI\",\n      \"properties\": {\n        \"dtype\": \"number\",\n        \"std\": 7.8841603203754405,\n        \"min\": 0.0,\n        \"max\": 67.1,\n        \"num_unique_values\": 248,\n        \"samples\": [\n          19.9,\n          31.0,\n          38.1\n        ],\n        \"semantic_type\": \"\",\n        \"description\": \"\"\n      }\n    },\n    {\n      \"column\": \"DiabetesPedigreeFunction\",\n      \"properties\": {\n        \"dtype\": \"number\",\n        \"std\": 0.33132859501277484,\n        \"min\": 0.078,\n        \"max\": 2.42,\n        \"num_unique_values\": 517,\n        \"samples\": [\n          1.731,\n          0.426,\n          0.138\n        ],\n        \"semantic_type\": \"\",\n        \"description\": \"\"\n      }\n    },\n    {\n      \"column\": \"Age\",\n      \"properties\": {\n        \"dtype\": \"number\",\n        \"std\": 11,\n        \"min\": 21,\n        \"max\": 81,\n        \"num_unique_values\": 52,\n        \"samples\": [\n          60,\n          47,\n          72\n        ],\n        \"semantic_type\": \"\",\n        \"description\": \"\"\n      }\n    },\n    {\n      \"column\": \"Outcome\",\n      \"properties\": {\n        \"dtype\": \"number\",\n        \"std\": 0,\n        \"min\": 0,\n        \"max\": 1,\n        \"num_unique_values\": 2,\n        \"samples\": [\n          0,\n          1\n        ],\n        \"semantic_type\": \"\",\n        \"description\": \"\"\n      }\n    }\n  ]\n}",
              "type": "dataframe",
              "variable_name": "dataset"
            },
            "text/html": [
              "\n",
              "  <div id=\"df-0d2e0c29-30ae-4f3e-9356-a4fc9eea3c7b\" class=\"colab-df-container\">\n",
              "    <div>\n",
              "<style scoped>\n",
              "    .dataframe tbody tr th:only-of-type {\n",
              "        vertical-align: middle;\n",
              "    }\n",
              "\n",
              "    .dataframe tbody tr th {\n",
              "        vertical-align: top;\n",
              "    }\n",
              "\n",
              "    .dataframe thead th {\n",
              "        text-align: right;\n",
              "    }\n",
              "</style>\n",
              "<table border=\"1\" class=\"dataframe\">\n",
              "  <thead>\n",
              "    <tr style=\"text-align: right;\">\n",
              "      <th></th>\n",
              "      <th>Pregnancies</th>\n",
              "      <th>Glucose</th>\n",
              "      <th>BloodPressure</th>\n",
              "      <th>SkinThickness</th>\n",
              "      <th>Insulin</th>\n",
              "      <th>BMI</th>\n",
              "      <th>DiabetesPedigreeFunction</th>\n",
              "      <th>Age</th>\n",
              "      <th>Outcome</th>\n",
              "    </tr>\n",
              "  </thead>\n",
              "  <tbody>\n",
              "    <tr>\n",
              "      <th>0</th>\n",
              "      <td>6</td>\n",
              "      <td>148</td>\n",
              "      <td>72</td>\n",
              "      <td>35</td>\n",
              "      <td>0</td>\n",
              "      <td>33.6</td>\n",
              "      <td>0.627</td>\n",
              "      <td>50</td>\n",
              "      <td>1</td>\n",
              "    </tr>\n",
              "    <tr>\n",
              "      <th>1</th>\n",
              "      <td>1</td>\n",
              "      <td>85</td>\n",
              "      <td>66</td>\n",
              "      <td>29</td>\n",
              "      <td>0</td>\n",
              "      <td>26.6</td>\n",
              "      <td>0.351</td>\n",
              "      <td>31</td>\n",
              "      <td>0</td>\n",
              "    </tr>\n",
              "    <tr>\n",
              "      <th>2</th>\n",
              "      <td>8</td>\n",
              "      <td>183</td>\n",
              "      <td>64</td>\n",
              "      <td>0</td>\n",
              "      <td>0</td>\n",
              "      <td>23.3</td>\n",
              "      <td>0.672</td>\n",
              "      <td>32</td>\n",
              "      <td>1</td>\n",
              "    </tr>\n",
              "    <tr>\n",
              "      <th>3</th>\n",
              "      <td>1</td>\n",
              "      <td>89</td>\n",
              "      <td>66</td>\n",
              "      <td>23</td>\n",
              "      <td>94</td>\n",
              "      <td>28.1</td>\n",
              "      <td>0.167</td>\n",
              "      <td>21</td>\n",
              "      <td>0</td>\n",
              "    </tr>\n",
              "    <tr>\n",
              "      <th>4</th>\n",
              "      <td>0</td>\n",
              "      <td>137</td>\n",
              "      <td>40</td>\n",
              "      <td>35</td>\n",
              "      <td>168</td>\n",
              "      <td>43.1</td>\n",
              "      <td>2.288</td>\n",
              "      <td>33</td>\n",
              "      <td>1</td>\n",
              "    </tr>\n",
              "  </tbody>\n",
              "</table>\n",
              "</div>\n",
              "    <div class=\"colab-df-buttons\">\n",
              "\n",
              "  <div class=\"colab-df-container\">\n",
              "    <button class=\"colab-df-convert\" onclick=\"convertToInteractive('df-0d2e0c29-30ae-4f3e-9356-a4fc9eea3c7b')\"\n",
              "            title=\"Convert this dataframe to an interactive table.\"\n",
              "            style=\"display:none;\">\n",
              "\n",
              "  <svg xmlns=\"http://www.w3.org/2000/svg\" height=\"24px\" viewBox=\"0 -960 960 960\">\n",
              "    <path d=\"M120-120v-720h720v720H120Zm60-500h600v-160H180v160Zm220 220h160v-160H400v160Zm0 220h160v-160H400v160ZM180-400h160v-160H180v160Zm440 0h160v-160H620v160ZM180-180h160v-160H180v160Zm440 0h160v-160H620v160Z\"/>\n",
              "  </svg>\n",
              "    </button>\n",
              "\n",
              "  <style>\n",
              "    .colab-df-container {\n",
              "      display:flex;\n",
              "      gap: 12px;\n",
              "    }\n",
              "\n",
              "    .colab-df-convert {\n",
              "      background-color: #E8F0FE;\n",
              "      border: none;\n",
              "      border-radius: 50%;\n",
              "      cursor: pointer;\n",
              "      display: none;\n",
              "      fill: #1967D2;\n",
              "      height: 32px;\n",
              "      padding: 0 0 0 0;\n",
              "      width: 32px;\n",
              "    }\n",
              "\n",
              "    .colab-df-convert:hover {\n",
              "      background-color: #E2EBFA;\n",
              "      box-shadow: 0px 1px 2px rgba(60, 64, 67, 0.3), 0px 1px 3px 1px rgba(60, 64, 67, 0.15);\n",
              "      fill: #174EA6;\n",
              "    }\n",
              "\n",
              "    .colab-df-buttons div {\n",
              "      margin-bottom: 4px;\n",
              "    }\n",
              "\n",
              "    [theme=dark] .colab-df-convert {\n",
              "      background-color: #3B4455;\n",
              "      fill: #D2E3FC;\n",
              "    }\n",
              "\n",
              "    [theme=dark] .colab-df-convert:hover {\n",
              "      background-color: #434B5C;\n",
              "      box-shadow: 0px 1px 3px 1px rgba(0, 0, 0, 0.15);\n",
              "      filter: drop-shadow(0px 1px 2px rgba(0, 0, 0, 0.3));\n",
              "      fill: #FFFFFF;\n",
              "    }\n",
              "  </style>\n",
              "\n",
              "    <script>\n",
              "      const buttonEl =\n",
              "        document.querySelector('#df-0d2e0c29-30ae-4f3e-9356-a4fc9eea3c7b button.colab-df-convert');\n",
              "      buttonEl.style.display =\n",
              "        google.colab.kernel.accessAllowed ? 'block' : 'none';\n",
              "\n",
              "      async function convertToInteractive(key) {\n",
              "        const element = document.querySelector('#df-0d2e0c29-30ae-4f3e-9356-a4fc9eea3c7b');\n",
              "        const dataTable =\n",
              "          await google.colab.kernel.invokeFunction('convertToInteractive',\n",
              "                                                    [key], {});\n",
              "        if (!dataTable) return;\n",
              "\n",
              "        const docLinkHtml = 'Like what you see? Visit the ' +\n",
              "          '<a target=\"_blank\" href=https://colab.research.google.com/notebooks/data_table.ipynb>data table notebook</a>'\n",
              "          + ' to learn more about interactive tables.';\n",
              "        element.innerHTML = '';\n",
              "        dataTable['output_type'] = 'display_data';\n",
              "        await google.colab.output.renderOutput(dataTable, element);\n",
              "        const docLink = document.createElement('div');\n",
              "        docLink.innerHTML = docLinkHtml;\n",
              "        element.appendChild(docLink);\n",
              "      }\n",
              "    </script>\n",
              "  </div>\n",
              "\n",
              "\n",
              "    <div id=\"df-9d5bf3e2-6816-4455-86c8-63e0f276d23c\">\n",
              "      <button class=\"colab-df-quickchart\" onclick=\"quickchart('df-9d5bf3e2-6816-4455-86c8-63e0f276d23c')\"\n",
              "                title=\"Suggest charts\"\n",
              "                style=\"display:none;\">\n",
              "\n",
              "<svg xmlns=\"http://www.w3.org/2000/svg\" height=\"24px\"viewBox=\"0 0 24 24\"\n",
              "     width=\"24px\">\n",
              "    <g>\n",
              "        <path d=\"M19 3H5c-1.1 0-2 .9-2 2v14c0 1.1.9 2 2 2h14c1.1 0 2-.9 2-2V5c0-1.1-.9-2-2-2zM9 17H7v-7h2v7zm4 0h-2V7h2v10zm4 0h-2v-4h2v4z\"/>\n",
              "    </g>\n",
              "</svg>\n",
              "      </button>\n",
              "\n",
              "<style>\n",
              "  .colab-df-quickchart {\n",
              "      --bg-color: #E8F0FE;\n",
              "      --fill-color: #1967D2;\n",
              "      --hover-bg-color: #E2EBFA;\n",
              "      --hover-fill-color: #174EA6;\n",
              "      --disabled-fill-color: #AAA;\n",
              "      --disabled-bg-color: #DDD;\n",
              "  }\n",
              "\n",
              "  [theme=dark] .colab-df-quickchart {\n",
              "      --bg-color: #3B4455;\n",
              "      --fill-color: #D2E3FC;\n",
              "      --hover-bg-color: #434B5C;\n",
              "      --hover-fill-color: #FFFFFF;\n",
              "      --disabled-bg-color: #3B4455;\n",
              "      --disabled-fill-color: #666;\n",
              "  }\n",
              "\n",
              "  .colab-df-quickchart {\n",
              "    background-color: var(--bg-color);\n",
              "    border: none;\n",
              "    border-radius: 50%;\n",
              "    cursor: pointer;\n",
              "    display: none;\n",
              "    fill: var(--fill-color);\n",
              "    height: 32px;\n",
              "    padding: 0;\n",
              "    width: 32px;\n",
              "  }\n",
              "\n",
              "  .colab-df-quickchart:hover {\n",
              "    background-color: var(--hover-bg-color);\n",
              "    box-shadow: 0 1px 2px rgba(60, 64, 67, 0.3), 0 1px 3px 1px rgba(60, 64, 67, 0.15);\n",
              "    fill: var(--button-hover-fill-color);\n",
              "  }\n",
              "\n",
              "  .colab-df-quickchart-complete:disabled,\n",
              "  .colab-df-quickchart-complete:disabled:hover {\n",
              "    background-color: var(--disabled-bg-color);\n",
              "    fill: var(--disabled-fill-color);\n",
              "    box-shadow: none;\n",
              "  }\n",
              "\n",
              "  .colab-df-spinner {\n",
              "    border: 2px solid var(--fill-color);\n",
              "    border-color: transparent;\n",
              "    border-bottom-color: var(--fill-color);\n",
              "    animation:\n",
              "      spin 1s steps(1) infinite;\n",
              "  }\n",
              "\n",
              "  @keyframes spin {\n",
              "    0% {\n",
              "      border-color: transparent;\n",
              "      border-bottom-color: var(--fill-color);\n",
              "      border-left-color: var(--fill-color);\n",
              "    }\n",
              "    20% {\n",
              "      border-color: transparent;\n",
              "      border-left-color: var(--fill-color);\n",
              "      border-top-color: var(--fill-color);\n",
              "    }\n",
              "    30% {\n",
              "      border-color: transparent;\n",
              "      border-left-color: var(--fill-color);\n",
              "      border-top-color: var(--fill-color);\n",
              "      border-right-color: var(--fill-color);\n",
              "    }\n",
              "    40% {\n",
              "      border-color: transparent;\n",
              "      border-right-color: var(--fill-color);\n",
              "      border-top-color: var(--fill-color);\n",
              "    }\n",
              "    60% {\n",
              "      border-color: transparent;\n",
              "      border-right-color: var(--fill-color);\n",
              "    }\n",
              "    80% {\n",
              "      border-color: transparent;\n",
              "      border-right-color: var(--fill-color);\n",
              "      border-bottom-color: var(--fill-color);\n",
              "    }\n",
              "    90% {\n",
              "      border-color: transparent;\n",
              "      border-bottom-color: var(--fill-color);\n",
              "    }\n",
              "  }\n",
              "</style>\n",
              "\n",
              "      <script>\n",
              "        async function quickchart(key) {\n",
              "          const quickchartButtonEl =\n",
              "            document.querySelector('#' + key + ' button');\n",
              "          quickchartButtonEl.disabled = true;  // To prevent multiple clicks.\n",
              "          quickchartButtonEl.classList.add('colab-df-spinner');\n",
              "          try {\n",
              "            const charts = await google.colab.kernel.invokeFunction(\n",
              "                'suggestCharts', [key], {});\n",
              "          } catch (error) {\n",
              "            console.error('Error during call to suggestCharts:', error);\n",
              "          }\n",
              "          quickchartButtonEl.classList.remove('colab-df-spinner');\n",
              "          quickchartButtonEl.classList.add('colab-df-quickchart-complete');\n",
              "        }\n",
              "        (() => {\n",
              "          let quickchartButtonEl =\n",
              "            document.querySelector('#df-9d5bf3e2-6816-4455-86c8-63e0f276d23c button');\n",
              "          quickchartButtonEl.style.display =\n",
              "            google.colab.kernel.accessAllowed ? 'block' : 'none';\n",
              "        })();\n",
              "      </script>\n",
              "    </div>\n",
              "\n",
              "    </div>\n",
              "  </div>\n"
            ],
            "text/plain": [
              "   Pregnancies  Glucose  BloodPressure  SkinThickness  Insulin   BMI  \\\n",
              "0            6      148             72             35        0  33.6   \n",
              "1            1       85             66             29        0  26.6   \n",
              "2            8      183             64              0        0  23.3   \n",
              "3            1       89             66             23       94  28.1   \n",
              "4            0      137             40             35      168  43.1   \n",
              "\n",
              "   DiabetesPedigreeFunction  Age  Outcome  \n",
              "0                     0.627   50        1  \n",
              "1                     0.351   31        0  \n",
              "2                     0.672   32        1  \n",
              "3                     0.167   21        0  \n",
              "4                     2.288   33        1  "
            ]
          },
          "execution_count": 21,
          "metadata": {},
          "output_type": "execute_result"
        }
      ],
      "source": [
        "import pandas as pd\n",
        "import numpy as np\n",
        "\n",
        "dataset = pd.read_csv(\"/content/drive/MyDrive/ML_datasets/diabetes.csv\")\n",
        "\n",
        "# Test d'affichage des données du dataset\n",
        "\n",
        "dataset.head()"
      ]
    },
    {
      "cell_type": "markdown",
      "metadata": {
        "id": "coSOP1eVCqiq"
      },
      "source": [
        "2- Nettoyage et prétraitement des données:\n"
      ]
    },
    {
      "cell_type": "code",
      "execution_count": 22,
      "metadata": {
        "id": "SiMPiDW2Elwm"
      },
      "outputs": [],
      "source": [
        "import numpy as np\n",
        "\n",
        "# Colonnes qui ne doivent pas avoir de valeurs nulles et doivent être traité comme des valeurs manquantes\n",
        "\n",
        "col_clinique = ['Glucose', 'BloodPressure', 'SkinThickness', 'Insulin', 'BMI']\n",
        "\n",
        "# Remplacement des valeurs nulles par NaN (Not a Number)\n",
        "\n",
        "dataset[col_clinique] = dataset[col_clinique].replace(0, np.nan)\n",
        "\n",
        "# Remplissage des NaN avec la médiane de chaque colonne pour le traitement des incompatibilités futures\n",
        "\n",
        "for colonne in col_clinique:\n",
        "    median_value = dataset[colonne].median()\n",
        "    dataset[colonne] = dataset[colonne].fillna(median_value)\n"
      ]
    },
    {
      "cell_type": "markdown",
      "metadata": {
        "id": "PH2h8QyPSoxK"
      },
      "source": [
        "3- EDA et déséquilibre"
      ]
    },
    {
      "cell_type": "code",
      "execution_count": 23,
      "metadata": {
        "colab": {
          "base_uri": "https://localhost:8080/",
          "height": 663
        },
        "id": "6vYiwcuvRYYh",
        "outputId": "b20b8129-4c3e-44b6-cddf-eca55f925dfb"
      },
      "outputs": [
        {
          "data": {
            "image/png": "[encoded data removed]",
            "text/plain": [
              "<Figure size 640x480 with 1 Axes>"
            ]
          },
          "metadata": {},
          "output_type": "display_data"
        },
        {
          "name": "stdout",
          "output_type": "stream",
          "text": [
            "\n",
            "Statistiques descriptives par classe:\n",
            "         Pregnancies     Glucose  BloodPressure  SkinThickness     Insulin  \\\n",
            "Outcome                                                                      \n",
            "0           3.298000  110.682000      70.920000      27.726000  127.792000   \n",
            "1           4.865672  142.130597      75.123134      31.686567  164.701493   \n",
            "\n",
            "               BMI  DiabetesPedigreeFunction        Age  \n",
            "Outcome                                                  \n",
            "0        30.885600                  0.429734  31.190000  \n",
            "1        35.383582                  0.550500  37.067164  \n"
          ]
        }
      ],
      "source": [
        "import seaborn as sns\n",
        "import matplotlib.pyplot as plt\n",
        "\n",
        "# Barplot pour la gestion du déséquilibre des classes\n",
        "\n",
        "sns.countplot(x='Outcome', data=dataset)\n",
        "plt.title(\"Répartition des classes (0 = Non diabétique, 1 = Diabétique)\")\n",
        "plt.xlabel(\"Classe\")\n",
        "plt.ylabel(\"Nombre de cas\")\n",
        "plt.show()\n",
        "\n",
        "# Statistique descriptive par classe\n",
        "\n",
        "print(\"\\nStatistiques descriptives par classe:\")\n",
        "print(dataset.groupby(\"Outcome\").mean())"
      ]
    },
    {
      "cell_type": "code",
      "execution_count": 24,
      "metadata": {
        "id": "trGH3cd6URx2"
      },
      "outputs": [],
      "source": [
        "import torch\n",
        "import torch.nn as nn\n",
        "from torch.utils.data import TensorDataset, DataLoader, WeightedRandomSampler\n",
        "\n",
        "# Séparation de la colonne Outcome pour garantir le surapprentissage\n",
        "\n",
        "X = dataset.drop(\"Outcome\", axis=1)\n",
        "y = dataset[\"Outcome\"].values\n",
        "\n"
      ]
    },
    {
      "cell_type": "markdown",
      "metadata": {
        "id": "aIksObvmZ0Ph"
      },
      "source": [
        "5- Feature engineering / sélection"
      ]
    },
    {
      "cell_type": "code",
      "execution_count": 25,
      "metadata": {
        "colab": {
          "base_uri": "https://localhost:8080/"
        },
        "id": "LP1OECSNZ35-",
        "outputId": "f55f4bc5-6066-4ce0-c37d-988f671e7bb8"
      },
      "outputs": [
        {
          "name": "stdout",
          "output_type": "stream",
          "text": [
            "\n",
            "Features sélectionnées : ['Pregnancies', 'Glucose', 'SkinThickness', 'Insulin', 'BMI', 'Age']\n"
          ]
        }
      ],
      "source": [
        "from sklearn.feature_selection import SelectKBest, f_classif\n",
        "from sklearn.preprocessing import StandardScaler\n",
        "\n",
        "# Préparation des données\n",
        "\n",
        "# Sélection de caractéristiques SelectKBest pour identifier les 6 meilleures caractéristiques prédictives du diabète\n",
        "\n",
        "selecteur_kbest = SelectKBest(score_func=f_classif, k=6)\n",
        "X_caracteristiques_selectionnees = selecteur_kbest.fit_transform(X, y)\n",
        "caracteristiques_selectionnees = X.columns[selecteur_kbest.get_support()]\n",
        "print(\"\\nFeatures sélectionnées :\", list(caracteristiques_selectionnees))"
      ]
    },
    {
      "cell_type": "markdown",
      "metadata": {
        "id": "PptswaWaYyL7"
      },
      "source": [
        "4- Split train/validation/test"
      ]
    },
    {
      "cell_type": "code",
      "execution_count": 26,
      "metadata": {
        "id": "UoNn6ok3Vkl9"
      },
      "outputs": [],
      "source": [
        "from sklearn.model_selection import train_test_split\n",
        "\n",
        "# Standardisation des caractéristiques sélectionnées\n",
        "\n",
        "feature_scaler = StandardScaler()\n",
        "X_scaled_features = feature_scaler.fit_transform(X_caracteristiques_selectionnees)\n",
        "\n",
        "# Division des données en ensembles d'entraînement, de validation et de test\n",
        "\n",
        "X_temp, X_test, y_temp, y_test = train_test_split(X_scaled_features, y, test_size=0.2, random_state=42)\n",
        "X_train, X_val, y_train, y_val = train_test_split(X_temp, y_temp, test_size=0.25, random_state=42)\n",
        "\n",
        "# Conversion des données NumPy en tenseurs PyTorch pour l'entraînement avec PyTorch\n",
        "\n",
        "X_train_tensor = torch.tensor(X_train, dtype=torch.float32)\n",
        "y_train_tensor = torch.tensor(y_train, dtype=torch.float32).unsqueeze(1)\n",
        "X_val_tensor = torch.tensor(X_val, dtype=torch.float32)\n",
        "y_val_tensor = torch.tensor(y_val, dtype=torch.float32).unsqueeze(1)\n",
        "X_test_tensor = torch.tensor(X_test, dtype=torch.float32)\n",
        "y_test_tensor = torch.tensor(y_test, dtype=torch.float32).unsqueeze(1)"
      ]
    },
    {
      "cell_type": "markdown",
      "metadata": {
        "id": "Gh55OHX_b_4I"
      },
      "source": [
        "6- Gestion du déséquilibre"
      ]
    },
    {
      "cell_type": "code",
      "execution_count": 27,
      "metadata": {
        "id": "sR6Zx0X6cEAb"
      },
      "outputs": [],
      "source": [
        "import numpy as np\n",
        "from torch.utils.data import TensorDataset, DataLoader, WeightedRandomSampler\n",
        "\n",
        "# Calcul du nombre d'échantillons pour chaque classe dans l'ensemble d'entraînement\n",
        "\n",
        "train_class_counts = np.array([len(np.where(y_train == t)[0]) for t in np.unique(y_train)])\n",
        "\n",
        "# Calcul des poids inverses des fréquences de classe pour chaque classe\n",
        "class_weights = 1. / train_class_counts\n",
        "\n",
        "# Attribution du poids correspondant à chaque échantillon dans l'ensemble d'entraînement\n",
        "sample_weights = class_weights[y_train]\n",
        "\n",
        "# Création d'un échantillonneur pondéré pour suréchantillonner les classes minoritaires\n",
        "weighted_sampler = WeightedRandomSampler(weights=sample_weights, num_samples=len(sample_weights), replacement=True)\n",
        "\n",
        "# Création des objets TensorDataset pour les ensembles d'entraînement et de validation\n",
        "train_dataset = TensorDataset(X_train_tensor, y_train_tensor)\n",
        "val_dataset = TensorDataset(X_val_tensor, y_val_tensor)\n",
        "\n",
        "# Création des objets DataLoader avec l'échantillonneur pondéré pour l'ensemble d'entraînement\n",
        "# Le DataLoader pour l'ensemble de validation utilise le comportement par défaut (pas de pondération)\n",
        "train_loader = DataLoader(train_dataset, batch_size=32, sampler=weighted_sampler)\n",
        "val_loader = DataLoader(val_dataset, batch_size=32)"
      ]
    },
    {
      "cell_type": "markdown",
      "metadata": {
        "id": "4ZK5MtuMdtPb"
      },
      "source": [
        "7- Modélisation initiale"
      ]
    },
    {
      "cell_type": "code",
      "execution_count": 28,
      "metadata": {
        "colab": {
          "base_uri": "https://localhost:8080/"
        },
        "id": "KTXSSzaWdwBE",
        "outputId": "d68a9f35-c8d6-4367-d830-1b9a2097aace"
      },
      "outputs": [
        {
          "name": "stdout",
          "output_type": "stream",
          "text": [
            "\n",
            "[Modèle Logistique - Validation set]\n",
            "Accuracy : 0.7922077922077922\n",
            "Precision: 0.7837837837837838\n",
            "Recall   : 0.5471698113207547\n",
            "F1 Score : 0.6444444444444445\n",
            "Epoch 10/50, Train Loss: 0.6597, Value Loss: 0.5863\n",
            "Epoch 20/50, Train Loss: 0.5764, Value Loss: 0.4938\n",
            "Epoch 30/50, Train Loss: 0.5058, Value Loss: 0.4625\n",
            "Epoch 40/50, Train Loss: 0.6418, Value Loss: 0.4490\n",
            "Epoch 50/50, Train Loss: 0.6998, Value Loss: 0.4493\n"
          ]
        }
      ],
      "source": [
        "import torch\n",
        "import torch.nn as nn\n",
        "from sklearn.linear_model import LogisticRegression\n",
        "from sklearn.metrics import accuracy_score, precision_score, recall_score, f1_score, confusion_matrix, ConfusionMatrixDisplay\n",
        "\n",
        "# Logistic Regression\n",
        "\n",
        "lr = LogisticRegression()\n",
        "lr.fit(X_train, y_train)\n",
        "y_val_pred_lr = lr.predict(X_val)\n",
        "\n",
        "print(\"\\n[Modèle Logistique - Validation set]\")\n",
        "print(\"Accuracy :\", accuracy_score(y_val, y_val_pred_lr))\n",
        "print(\"Precision:\", precision_score(y_val, y_val_pred_lr))\n",
        "print(\"Recall   :\", recall_score(y_val, y_val_pred_lr))\n",
        "print(\"F1 Score :\", f1_score(y_val, y_val_pred_lr))\n",
        "\n",
        "# Définition du modèle PyTorch\n",
        "\n",
        "class DiabeteClassificationModel(nn.Module):\n",
        "    def __init__(self):\n",
        "        super(DiabeteClassificationModel, self).__init__()\n",
        "        self.fc1 = nn.Linear(6, 16)\n",
        "        self.relu = nn.ReLU()\n",
        "        self.fc2 = nn.Linear(16, 1)\n",
        "        self.sigmoid = nn.Sigmoid()\n",
        "\n",
        "    def forward(self, x):\n",
        "        x = self.fc1(x)\n",
        "        x = self.relu(x)\n",
        "        x = self.fc2(x)\n",
        "        x = self.sigmoid(x)\n",
        "        return x\n",
        "\n",
        "# Entraînement du modèle\n",
        "\n",
        "# Instanciation du modèle de classification du diabète\n",
        "\n",
        "model = DiabeteClassificationModel()\n",
        "\n",
        "# Définition de la fonction de perte (Binary Cross-Entropy Loss) pour la classification binaire\n",
        "\n",
        "criterion = nn.BCELoss()\n",
        "\n",
        "# Définition de l'optimiseur Adam avec un taux d'apprentissage (learning rate) de 0.001\n",
        "\n",
        "optimizer = torch.optim.Adam(model.parameters(), lr=0.001)\n",
        "\n",
        "\n",
        "# Boucle d'entraînement sur le nombre d'époques\n",
        "\n",
        "epochs = 50\n",
        "for epoch in range(epochs):\n",
        "    # Met le modèle en mode entraînement\n",
        "\n",
        "    model.train()\n",
        "\n",
        "    # Boucle sur les lots (batches) de données d'entraînement\n",
        "\n",
        "    for batch_X, batch_y in train_loader:\n",
        "        # Effectue le passage avant pour obtenir les prédictions\n",
        "        outputs = model(batch_X)\n",
        "        # Calcule la perte (loss) entre les prédictions et les étiquettes réelles\n",
        "        loss = criterion(outputs, batch_y)\n",
        "        # Met les gradients à zéro avant la rétropropagation\n",
        "        optimizer.zero_grad()\n",
        "        # Effectue la rétropropagation pour calculer les gradients\n",
        "        loss.backward()\n",
        "        # Met à jour les poids du modèle en utilisant l'optimiseur\n",
        "        optimizer.step()\n",
        "\n",
        "    # Met le modèle en mode évaluation (désactive le dropout, ...)\n",
        "\n",
        "    model.eval()\n",
        "\n",
        "    # Désactive le calcul des gradients pour l'évaluation afin de gagner en mémoire et en vitesse\n",
        "\n",
        "    with torch.no_grad():\n",
        "\n",
        "        # Effectue le passage avant sur l'ensemble de validation\n",
        "        val_outputs = model(X_val_tensor)\n",
        "        # Calcule la perte sur l'ensemble de validation\n",
        "        val_loss = criterion(val_outputs, y_val_tensor)\n",
        "\n",
        "    # Affiche les pertes d'entraînement et de validation toutes les 10 époques\n",
        "    if (epoch+1) % 10 == 0:\n",
        "        print(f\"Epoch {epoch+1}/{epochs}, Train Loss: {loss.item():.4f}, Value Loss: {val_loss.item():.4f}\")"
      ]
    },
    {
      "cell_type": "markdown",
      "metadata": {
        "id": "s0DRQX1mjir-"
      },
      "source": [
        "8- Evaluation finale"
      ]
    },
    {
      "cell_type": "code",
      "execution_count": 29,
      "metadata": {
        "colab": {
          "base_uri": "https://localhost:8080/",
          "height": 611
        },
        "id": "cJzLFP9ljnK2",
        "outputId": "98ae5775-9f6b-45c6-e94d-71a3788f3cbe"
      },
      "outputs": [
        {
          "name": "stdout",
          "output_type": "stream",
          "text": [
            "\n",
            "Précision finale sur le jeu de test : 72.08%\n"
          ]
        },
        {
          "data": {
            "image/png": "[encoded data removed]",
            "text/plain": [
              "<Figure size 640x480 with 2 Axes>"
            ]
          },
          "metadata": {},
          "output_type": "display_data"
        },
        {
          "name": "stdout",
          "output_type": "stream",
          "text": [
            "\n",
            "[Analyse Test Set pour le modèle PyTorch]\n",
            "Accuracy : 0.7207792207792207\n",
            "Precision: 0.5833333333333334\n",
            "Recall   : 0.7636363636363637\n",
            "F1 Score : 0.6614173228346457\n"
          ]
        }
      ],
      "source": [
        "import numpy\n",
        "import matplotlib.pyplot as plt\n",
        "from sklearn.metrics import accuracy_score, precision_score, recall_score, f1_score, confusion_matrix, ConfusionMatrixDisplay\n",
        "\n",
        "model.eval()\n",
        "with torch.no_grad():\n",
        "    y_pred = model(X_test_tensor)\n",
        "    y_pred_labels = (y_pred >= 0.5).float()\n",
        "    accuracy = accuracy_score(y_test_tensor.numpy(), y_pred_labels.numpy())\n",
        "    print(f\"\\nPrécision finale sur le jeu de test : {accuracy*100:.2f}%\")\n",
        "\n",
        "    # Matrice de confusion\n",
        "    cm = confusion_matrix(y_test_tensor.numpy(), y_pred_labels.numpy())\n",
        "    disp = ConfusionMatrixDisplay(confusion_matrix=cm, display_labels=[\"Non diabétique\", \"Diabétique\"])\n",
        "    disp.plot(cmap=\"Blues\")\n",
        "    plt.title(\"Matrice de confusion Test Set\")\n",
        "    plt.show()\n",
        "\n",
        "    print(\"\\n[Analyse Test Set pour le modèle PyTorch]\")\n",
        "    print(\"Accuracy :\", accuracy_score(y_test_tensor.numpy(), y_pred_labels.numpy()))\n",
        "    print(\"Precision:\", precision_score(y_test_tensor.numpy(), y_pred_labels.numpy()))\n",
        "    print(\"Recall   :\", recall_score(y_test_tensor.numpy(), y_pred_labels.numpy()))\n",
        "    print(\"F1 Score :\", f1_score(y_test_tensor.numpy(), y_pred_labels.numpy()))"
      ]
    },
    {
      "cell_type": "markdown",
      "metadata": {
        "id": "Vq_-vDCJk64t"
      },
      "source": [
        "9- Explainability"
      ]
    },
    {
      "cell_type": "code",
      "execution_count": null,
      "metadata": {
        "colab": {
          "base_uri": "https://localhost:8080/"
        },
        "id": "wLmQls-Ek9nA",
        "outputId": "b7928696-8867-46e2-8ab8-c2452176ec59"
      },
      "outputs": [
        {
          "name": "stdout",
          "output_type": "stream",
          "text": [
            "\n",
            "[Importance des variables - Modèle Logistique]\n",
            "Pregnancies : 0.2014\n",
            "Glucose : 0.9354\n",
            "SkinThickness : 0.1316\n",
            "Insulin : -0.0455\n",
            "BMI : 0.5519\n",
            "Age : 0.4471\n",
            "\n",
            "Faux positifs : 30 cas\n",
            "Faux négatifs : 13 cas\n",
            "\n",
            "Exemples de faux positifs :\n",
            "   Pregnancies   Glucose  SkinThickness   Insulin       BMI       Age\n",
            "0     0.639947 -0.777694       0.442995  0.571411  0.224838  0.830381\n",
            "1     0.936914  0.471547      -0.012301 -0.181541 -0.371899  1.425995\n",
            "2     0.639947 -0.613320       0.329171  0.571411  0.763356  1.851434\n",
            "3    -1.141852 -0.153073      -0.012301 -0.181541  0.195728  0.915469\n",
            "4     0.046014  1.063293      -0.012301 -0.169957 -0.168135  0.319855\n",
            "\n",
            "Exemples de faux négatifs :\n",
            "   Pregnancies   Glucose  SkinThickness   Insulin       BMI       Age\n",
            "0     1.827813 -0.350322      -0.239949 -0.181541 -0.721209  0.575118\n",
            "1    -0.844885  0.109925       1.239762  0.304982  0.122956 -0.445935\n",
            "2    -0.547919 -0.646195       0.784467 -0.239461  1.898612 -0.871374\n",
            "3    -1.141852 -0.416071       0.101523 -0.181541  0.006519  0.404942\n",
            "4    -0.547919  0.405798      -0.012301 -0.181541 -0.517445 -0.871374\n"
          ]
        }
      ],
      "source": [
        "# Importance des features qui est un modèle logistique comme baseline interprétable\n",
        "\n",
        "print(\"\\n[Importance des variables - Modèle Logistique]\")\n",
        "for name, coef in zip(caracteristiques_selectionnees, lr.coef_[0]):\n",
        "    print(f\"{name} : {coef:.4f}\")\n",
        "\n",
        "# Analyse des erreurs : faux positifs / faux négatifs\n",
        "y_test_np = y_test_tensor.numpy().flatten()\n",
        "y_pred_np = y_pred_labels.numpy().flatten()\n",
        "\n",
        "false_positives = np.where((y_test_np == 0) & (y_pred_np == 1))[0]\n",
        "false_negatives = np.where((y_test_np == 1) & (y_pred_np == 0))[0]\n",
        "\n",
        "print(f\"\\nFaux positifs : {len(false_positives)} cas\")\n",
        "print(f\"Faux négatifs : {len(false_negatives)} cas\")\n",
        "\n",
        "# Affichage de quelques exemples\n",
        "print(\"\\nExemples de faux positifs :\")\n",
        "print(pd.DataFrame(X_test[false_positives][:5], columns=caracteristiques_selectionnees))\n",
        "\n",
        "print(\"\\nExemples de faux négatifs :\")\n",
        "print(pd.DataFrame(X_test[false_negatives][:5], columns=caracteristiques_selectionnees))"
      ]
    },
    {
      "cell_type": "markdown",
      "metadata": {},
      "source": [
        "10- Conclusion"
      ]
    },
    {
      "cell_type": "code",
      "execution_count": null,
      "metadata": {},
      "outputs": [],
      "source": [
        "print(\"\\n[Conclusions]\")\n",
        "print(\"Le modèle a obtenu une performance correcte avec un F1-score raisonnable.\")\n",
        "print(\"Cependant, des faux négatifs peuvent être critiques en pratique.\")\n",
        "\n",
        "print(\"\\n[Recommandations]\")\n",
        "print(\"- Collecter plus de données pour équilibrer les classes.\")\n",
        "print(\"- Ajouter des variables comme antécédents familiaux ou mode de vie\")\n",
        "print(\"- Essayer d'autres modèles : arbres, XGBoost.\")\n",
        "print(\"- Intégrer une relecture humaine pour les cas limites.\")\n",
        "\n"
      ]
    }
  ],
  "metadata": {
    "colab": {
      "provenance": []
    },
    "kernelspec": {
      "display_name": "Python 3",
      "name": "python3"
    },
    "language_info": {
      "name": "python"
    }
  },
  "nbformat": 4,
  "nbformat_minor": 0
}
